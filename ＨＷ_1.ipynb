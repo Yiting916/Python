{
  "nbformat": 4,
  "nbformat_minor": 0,
  "metadata": {
    "colab": {
      "provenance": [],
      "authorship_tag": "ABX9TyOsCJI4i0GJ2z2mvgYi/SPp",
      "include_colab_link": true
    },
    "kernelspec": {
      "name": "python3",
      "display_name": "Python 3"
    },
    "language_info": {
      "name": "python"
    }
  },
  "cells": [
    {
      "cell_type": "markdown",
      "metadata": {
        "id": "view-in-github",
        "colab_type": "text"
      },
      "source": [
        "<a href=\"https://colab.research.google.com/github/Yiting916/Python/blob/master/%EF%BC%A8%EF%BC%B7_1.ipynb\" target=\"_parent\"><img src=\"https://colab.research.google.com/assets/colab-badge.svg\" alt=\"Open In Colab\"/></a>"
      ]
    },
    {
      "cell_type": "markdown",
      "source": [
        "\n",
        "# 第一題\n",
        "```Python\n",
        "#總共有100層階梯, 有兩種走法：\n",
        "#一層一踏、二層一踏\n",
        "#\n",
        "```\n",
        "\n"
      ],
      "metadata": {
        "id": "V_M9b_vrLdOM"
      }
    },
    {
      "cell_type": "code",
      "execution_count": null,
      "metadata": {
        "id": "BREY0iQILSZi"
      },
      "outputs": [],
      "source": []
    }
  ]
}